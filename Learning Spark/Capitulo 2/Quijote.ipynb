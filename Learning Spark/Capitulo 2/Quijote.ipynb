{
 "cells": [
  {
   "cell_type": "markdown",
   "id": "220e0000",
   "metadata": {},
   "source": [
    "# EL QUIJOTE"
   ]
  },
  {
   "cell_type": "markdown",
   "id": "25a263b3",
   "metadata": {},
   "source": [
    "# PYTHON "
   ]
  },
  {
   "cell_type": "code",
   "execution_count": 1,
   "id": "0adf9150",
   "metadata": {},
   "outputs": [],
   "source": [
    "import sys\n",
    "from pyspark.sql import SparkSession\n",
    "from pyspark.sql.functions import count"
   ]
  },
  {
   "cell_type": "code",
   "execution_count": 2,
   "id": "5b037ed1",
   "metadata": {},
   "outputs": [],
   "source": [
    "spark=(SparkSession\n",
    "      .builder\n",
    "      .appName(\"PythonElQuijote\")\n",
    "      .getOrCreate())"
   ]
  },
  {
   "cell_type": "code",
   "execution_count": 3,
   "id": "85a54e01",
   "metadata": {},
   "outputs": [],
   "source": [
    "quijote_file=\"C:/LearningSparkV2-master/databricks-datasets/learning-spark-v2/el_quijote.txt\""
   ]
  },
  {
   "cell_type": "code",
   "execution_count": 6,
   "id": "c4a3a4e3",
   "metadata": {},
   "outputs": [],
   "source": [
    "quijote=(spark.read.format(\"csv\")         \n",
    "         .option(\"inferSchema\", \"true\")\n",
    "         .load(quijote_file))"
   ]
  },
  {
   "cell_type": "code",
   "execution_count": 8,
   "id": "6aeeb01d",
   "metadata": {
    "scrolled": true
   },
   "outputs": [
    {
     "name": "stdout",
     "output_type": "stream",
     "text": [
      "+--------------------------------------------------------------------------------------------------+\n",
      "|_c0                                                                                               |\n",
      "+--------------------------------------------------------------------------------------------------+\n",
      "|DON QUIJOTE DE LA MANCHA                                                                          |\n",
      "|Miguel de Cervantes Saavedra                                                                      |\n",
      "|PRIMERA PARTE                                                                                     |\n",
      "|CAPÍTULO 1: Que trata de la condición y ejercicio del famoso hidalgo D. Quijote de la Mancha    |\n",
      "|En un lugar de la Mancha                                                                          |\n",
      "|Tuvo muchas veces competencia con el cura de su lugar (que era hombre docto graduado en Sigüenza)|\n",
      "|En resolución                                                                                    |\n",
      "|historia más cierta en el mundo.                                                                 |\n",
      "|Decía él                                                                                        |\n",
      "|En efecto                                                                                         |\n",
      "+--------------------------------------------------------------------------------------------------+\n",
      "only showing top 10 rows\n",
      "\n"
     ]
    }
   ],
   "source": [
    "quijote.show(n=10, truncate=False)"
   ]
  },
  {
   "cell_type": "code",
   "execution_count": 9,
   "id": "73ed1a43",
   "metadata": {},
   "outputs": [
    {
     "name": "stdout",
     "output_type": "stream",
     "text": [
      "+--------------------+\n",
      "|                 _c0|\n",
      "+--------------------+\n",
      "|DON QUIJOTE DE LA...|\n",
      "|Miguel de Cervant...|\n",
      "|       PRIMERA PARTE|\n",
      "|CAPÍTULO 1: Que ...|\n",
      "|En un lugar de la...|\n",
      "|Tuvo muchas veces...|\n",
      "|      En resolución|\n",
      "|historia más cie...|\n",
      "|          Decía él|\n",
      "|           En efecto|\n",
      "+--------------------+\n",
      "only showing top 10 rows\n",
      "\n"
     ]
    }
   ],
   "source": [
    "quijote.show(n=10, truncate=True)"
   ]
  },
  {
   "cell_type": "code",
   "execution_count": 10,
   "id": "0a89d709",
   "metadata": {},
   "outputs": [
    {
     "name": "stdout",
     "output_type": "stream",
     "text": [
      "+--------------------------------------------------------------------------------------------------+\n",
      "|_c0                                                                                               |\n",
      "+--------------------------------------------------------------------------------------------------+\n",
      "|DON QUIJOTE DE LA MANCHA                                                                          |\n",
      "|Miguel de Cervantes Saavedra                                                                      |\n",
      "|PRIMERA PARTE                                                                                     |\n",
      "|CAPÍTULO 1: Que trata de la condición y ejercicio del famoso hidalgo D. Quijote de la Mancha    |\n",
      "|En un lugar de la Mancha                                                                          |\n",
      "|Tuvo muchas veces competencia con el cura de su lugar (que era hombre docto graduado en Sigüenza)|\n",
      "|En resolución                                                                                    |\n",
      "|historia más cierta en el mundo.                                                                 |\n",
      "|Decía él                                                                                        |\n",
      "|En efecto                                                                                         |\n",
      "+--------------------------------------------------------------------------------------------------+\n",
      "only showing top 10 rows\n",
      "\n",
      "Hay 2185 filas\n"
     ]
    }
   ],
   "source": [
    "quijote.show(n=10, truncate=False)\n",
    "print(\"Hay %d filas\" % (quijote.count()))"
   ]
  },
  {
   "cell_type": "code",
   "execution_count": 17,
   "id": "68e0bba7",
   "metadata": {},
   "outputs": [
    {
     "data": {
      "text/plain": [
       "Row(_c0='DON QUIJOTE DE LA MANCHA')"
      ]
     },
     "execution_count": 17,
     "metadata": {},
     "output_type": "execute_result"
    }
   ],
   "source": [
    "quijote.first()"
   ]
  },
  {
   "cell_type": "code",
   "execution_count": 15,
   "id": "27f791ec",
   "metadata": {
    "scrolled": true
   },
   "outputs": [
    {
     "data": {
      "text/plain": [
       "[Row(_c0='DON QUIJOTE DE LA MANCHA'),\n",
       " Row(_c0='Miguel de Cervantes Saavedra'),\n",
       " Row(_c0='PRIMERA PARTE'),\n",
       " Row(_c0='CAPÍTULO 1: Que trata de la condición y ejercicio del famoso hidalgo D. Quijote de la Mancha'),\n",
       " Row(_c0='En un lugar de la Mancha'),\n",
       " Row(_c0='Tuvo muchas veces competencia con el cura de su lugar (que era hombre docto graduado en Sigüenza)'),\n",
       " Row(_c0='En resolución'),\n",
       " Row(_c0='historia más cierta en el mundo.'),\n",
       " Row(_c0='Decía él'),\n",
       " Row(_c0='En efecto')]"
      ]
     },
     "execution_count": 15,
     "metadata": {},
     "output_type": "execute_result"
    }
   ],
   "source": [
    "quijote.head(10)"
   ]
  },
  {
   "cell_type": "code",
   "execution_count": 18,
   "id": "b803236c",
   "metadata": {},
   "outputs": [
    {
     "data": {
      "text/plain": [
       "[Row(_c0='DON QUIJOTE DE LA MANCHA'),\n",
       " Row(_c0='Miguel de Cervantes Saavedra'),\n",
       " Row(_c0='PRIMERA PARTE'),\n",
       " Row(_c0='CAPÍTULO 1: Que trata de la condición y ejercicio del famoso hidalgo D. Quijote de la Mancha'),\n",
       " Row(_c0='En un lugar de la Mancha'),\n",
       " Row(_c0='Tuvo muchas veces competencia con el cura de su lugar (que era hombre docto graduado en Sigüenza)'),\n",
       " Row(_c0='En resolución'),\n",
       " Row(_c0='historia más cierta en el mundo.'),\n",
       " Row(_c0='Decía él'),\n",
       " Row(_c0='En efecto')]"
      ]
     },
     "execution_count": 18,
     "metadata": {},
     "output_type": "execute_result"
    }
   ],
   "source": [
    "quijote.take(10)"
   ]
  },
  {
   "cell_type": "code",
   "execution_count": 19,
   "id": "0fc675a8",
   "metadata": {},
   "outputs": [
    {
     "data": {
      "text/plain": [
       "[Row(_c0='Reposa aquí Dulcinea;'),\n",
       " Row(_c0='y'),\n",
       " Row(_c0='y tuvo asomos de dama; del gran Quijote fue llama'),\n",
       " Row(_c0='Estos fueron los versos que se pudieron leer; los demás'),\n",
       " Row(_c0='Forse altri canterà con miglior plettro. FINIS')]"
      ]
     },
     "execution_count": 19,
     "metadata": {},
     "output_type": "execute_result"
    }
   ],
   "source": [
    "quijote.tail(5)"
   ]
  },
  {
   "cell_type": "markdown",
   "id": "e50b49ef",
   "metadata": {},
   "source": [
    "# SCALA"
   ]
  },
  {
   "cell_type": "code",
   "execution_count": 1,
   "id": "94221f91",
   "metadata": {},
   "outputs": [
    {
     "data": {
      "text/plain": [
       "Intitializing Scala interpreter ..."
      ]
     },
     "metadata": {},
     "output_type": "display_data"
    },
    {
     "data": {
      "text/plain": [
       "Spark Web UI available at http://EM2021002861.bosonit.local:4040\n",
       "SparkContext available as 'sc' (version = 3.1.1, master = local[*], app id = local-1622536420175)\n",
       "SparkSession available as 'spark'\n"
      ]
     },
     "metadata": {},
     "output_type": "display_data"
    },
    {
     "data": {
      "text/plain": [
       "import org.apache.spark.sql.SparkSession\r\n",
       "import org.apache.spark.sql.functions._\r\n"
      ]
     },
     "execution_count": 1,
     "metadata": {},
     "output_type": "execute_result"
    }
   ],
   "source": [
    "import org.apache.spark.sql.SparkSession\n",
    "import org.apache.spark.sql.functions._"
   ]
  },
  {
   "cell_type": "code",
   "execution_count": 2,
   "id": "05ef8ec5",
   "metadata": {},
   "outputs": [
    {
     "data": {
      "text/plain": [
       "spark: org.apache.spark.sql.SparkSession = org.apache.spark.sql.SparkSession@79f50bbd\r\n"
      ]
     },
     "execution_count": 2,
     "metadata": {},
     "output_type": "execute_result"
    }
   ],
   "source": [
    "val spark = SparkSession\n",
    "            .builder\n",
    "            .appName(\"ScalaElQuijote\")\n",
    "            .getOrCreate()"
   ]
  },
  {
   "cell_type": "code",
   "execution_count": 3,
   "id": "be59a2f0",
   "metadata": {},
   "outputs": [
    {
     "data": {
      "text/plain": [
       "quijote_file: String = C:/LearningSparkV2-master/databricks-datasets/learning-spark-v2/el_quijote.txt\r\n"
      ]
     },
     "execution_count": 3,
     "metadata": {},
     "output_type": "execute_result"
    }
   ],
   "source": [
    "val quijote_file=\"C:/LearningSparkV2-master/databricks-datasets/learning-spark-v2/el_quijote.txt\""
   ]
  },
  {
   "cell_type": "code",
   "execution_count": 4,
   "id": "b8154630",
   "metadata": {},
   "outputs": [
    {
     "data": {
      "text/plain": [
       "quijote: org.apache.spark.sql.DataFrame = [_c0: string]\r\n"
      ]
     },
     "execution_count": 4,
     "metadata": {},
     "output_type": "execute_result"
    }
   ],
   "source": [
    "val quijote = spark.read.format(\"csv\")\n",
    "              .option(\"inferSchema\", \"True\")\n",
    "              .load(quijote_file)"
   ]
  },
  {
   "cell_type": "code",
   "execution_count": 5,
   "id": "9123e7c2",
   "metadata": {},
   "outputs": [
    {
     "name": "stdout",
     "output_type": "stream",
     "text": [
      "+--------------------------------------------------------------------------------------------------+\n",
      "|_c0                                                                                               |\n",
      "+--------------------------------------------------------------------------------------------------+\n",
      "|DON QUIJOTE DE LA MANCHA                                                                          |\n",
      "|Miguel de Cervantes Saavedra                                                                      |\n",
      "|PRIMERA PARTE                                                                                     |\n",
      "|CAPI?TULO 1: Que trata de la condicio?n y ejercicio del famoso hidalgo D. Quijote de la Mancha    |\n",
      "|En un lugar de la Mancha                                                                          |\n",
      "|Tuvo muchas veces competencia con el cura de su lugar (que era hombre docto graduado en Sigu?enza)|\n",
      "|En resolucio?n                                                                                    |\n",
      "|historia ma?s cierta en el mundo.                                                                 |\n",
      "|Deci?a e?l                                                                                        |\n",
      "|En efecto                                                                                         |\n",
      "+--------------------------------------------------------------------------------------------------+\n",
      "only showing top 10 rows\n",
      "\r\n"
     ]
    }
   ],
   "source": [
    "quijote.show(10, false)"
   ]
  },
  {
   "cell_type": "code",
   "execution_count": 6,
   "id": "57957d0f",
   "metadata": {},
   "outputs": [
    {
     "name": "stdout",
     "output_type": "stream",
     "text": [
      "+--------------------+\n",
      "|                 _c0|\n",
      "+--------------------+\n",
      "|DON QUIJOTE DE LA...|\n",
      "|Miguel de Cervant...|\n",
      "|       PRIMERA PARTE|\n",
      "|CAPI?TULO 1: Que ...|\n",
      "|En un lugar de la...|\n",
      "|Tuvo muchas veces...|\n",
      "|      En resolucio?n|\n",
      "|historia ma?s cie...|\n",
      "|          Deci?a e?l|\n",
      "|           En efecto|\n",
      "+--------------------+\n",
      "only showing top 10 rows\n",
      "\r\n"
     ]
    }
   ],
   "source": [
    "quijote.show(10, true)"
   ]
  },
  {
   "cell_type": "code",
   "execution_count": 9,
   "id": "e772fe84",
   "metadata": {},
   "outputs": [
    {
     "name": "stdout",
     "output_type": "stream",
     "text": [
      "+--------------------------------------------------------------------------------------------------+\n",
      "|_c0                                                                                               |\n",
      "+--------------------------------------------------------------------------------------------------+\n",
      "|DON QUIJOTE DE LA MANCHA                                                                          |\n",
      "|Miguel de Cervantes Saavedra                                                                      |\n",
      "|PRIMERA PARTE                                                                                     |\n",
      "|CAPI?TULO 1: Que trata de la condicio?n y ejercicio del famoso hidalgo D. Quijote de la Mancha    |\n",
      "|En un lugar de la Mancha                                                                          |\n",
      "|Tuvo muchas veces competencia con el cura de su lugar (que era hombre docto graduado en Sigu?enza)|\n",
      "|En resolucio?n                                                                                    |\n",
      "|historia ma?s cierta en el mundo.                                                                 |\n",
      "|Deci?a e?l                                                                                        |\n",
      "|En efecto                                                                                         |\n",
      "+--------------------------------------------------------------------------------------------------+\n",
      "only showing top 10 rows\n",
      "\n",
      "Hay 2185 filas\n"
     ]
    }
   ],
   "source": [
    "quijote.show(10, false)\n",
    "println(s\"Hay ${quijote.count()} filas\")"
   ]
  },
  {
   "cell_type": "code",
   "execution_count": 11,
   "id": "1f9d9cc7",
   "metadata": {},
   "outputs": [
    {
     "data": {
      "text/plain": [
       "res6: org.apache.spark.sql.Row = [DON QUIJOTE DE LA MANCHA]\r\n"
      ]
     },
     "execution_count": 11,
     "metadata": {},
     "output_type": "execute_result"
    }
   ],
   "source": [
    "quijote.first()"
   ]
  },
  {
   "cell_type": "code",
   "execution_count": 12,
   "id": "a75cd613",
   "metadata": {},
   "outputs": [
    {
     "data": {
      "text/plain": [
       "res7: Array[org.apache.spark.sql.Row] = Array([DON QUIJOTE DE LA MANCHA], [Miguel de Cervantes Saavedra], [PRIMERA PARTE], [CAPI?TULO 1: Que trata de la condicio?n y ejercicio del famoso hidalgo D. Quijote de la Mancha])\r\n"
      ]
     },
     "execution_count": 12,
     "metadata": {},
     "output_type": "execute_result"
    }
   ],
   "source": [
    "quijote.head(4)"
   ]
  },
  {
   "cell_type": "code",
   "execution_count": 13,
   "id": "077dd2e8",
   "metadata": {},
   "outputs": [
    {
     "data": {
      "text/plain": [
       "res8: Array[org.apache.spark.sql.Row] = Array([DON QUIJOTE DE LA MANCHA], [Miguel de Cervantes Saavedra], [PRIMERA PARTE], [CAPI?TULO 1: Que trata de la condicio?n y ejercicio del famoso hidalgo D. Quijote de la Mancha])\r\n"
      ]
     },
     "execution_count": 13,
     "metadata": {},
     "output_type": "execute_result"
    }
   ],
   "source": [
    "quijote.take(4)"
   ]
  },
  {
   "cell_type": "code",
   "execution_count": 14,
   "id": "f69b2331",
   "metadata": {},
   "outputs": [
    {
     "name": "stdout",
     "output_type": "stream",
     "text": [
      "[DON QUIJOTE DE LA MANCHA]\n",
      "[Miguel de Cervantes Saavedra]\n",
      "[PRIMERA PARTE]\n",
      "[CAPI?TULO 1: Que trata de la condicio?n y ejercicio del famoso hidalgo D. Quijote de la Mancha]\n"
     ]
    }
   ],
   "source": [
    "quijote.take(4).foreach(println)"
   ]
  },
  {
   "cell_type": "code",
   "execution_count": 15,
   "id": "19c5ad7f",
   "metadata": {},
   "outputs": [
    {
     "data": {
      "text/plain": [
       "res10: Array[org.apache.spark.sql.Row] = Array([Reposa aqui? Dulcinea;], [y], [y tuvo asomos de dama; del gran Quijote fue llama], [Estos fueron los versos que se pudieron leer; los dema?s], [Forse altri cantera? con miglior plettro. FINIS])\r\n"
      ]
     },
     "execution_count": 15,
     "metadata": {},
     "output_type": "execute_result"
    }
   ],
   "source": [
    "quijote.tail(5)"
   ]
  },
  {
   "cell_type": "code",
   "execution_count": 16,
   "id": "f58601d6",
   "metadata": {},
   "outputs": [
    {
     "name": "stdout",
     "output_type": "stream",
     "text": [
      "[Reposa aqui? Dulcinea;]\n",
      "[y]\n",
      "[y tuvo asomos de dama; del gran Quijote fue llama]\n",
      "[Estos fueron los versos que se pudieron leer; los dema?s]\n",
      "[Forse altri cantera? con miglior plettro. FINIS]\n"
     ]
    }
   ],
   "source": [
    "quijote.tail(5).foreach(println)"
   ]
  }
 ],
 "metadata": {
  "kernelspec": {
   "display_name": "spylon-kernel",
   "language": "scala",
   "name": "spylon-kernel"
  },
  "language_info": {
   "codemirror_mode": "text/x-scala",
   "file_extension": ".scala",
   "help_links": [
    {
     "text": "MetaKernel Magics",
     "url": "https://metakernel.readthedocs.io/en/latest/source/README.html"
    }
   ],
   "mimetype": "text/x-scala",
   "name": "scala",
   "pygments_lexer": "scala",
   "version": "0.4.1"
  }
 },
 "nbformat": 4,
 "nbformat_minor": 5
}
