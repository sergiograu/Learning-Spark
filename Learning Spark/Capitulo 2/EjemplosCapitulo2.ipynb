{
 "cells": [
  {
   "cell_type": "markdown",
   "id": "40a1eefd",
   "metadata": {},
   "source": [
    "# CAPITULO 1"
   ]
  },
  {
   "cell_type": "markdown",
   "id": "f5f79380",
   "metadata": {},
   "source": [
    "# SCALA\n"
   ]
  },
  {
   "cell_type": "code",
   "execution_count": 1,
   "id": "92155399",
   "metadata": {},
   "outputs": [
    {
     "data": {
      "text/plain": [
       "Intitializing Scala interpreter ..."
      ]
     },
     "metadata": {},
     "output_type": "display_data"
    },
    {
     "data": {
      "text/plain": [
       "Spark Web UI available at http://EM2021002861.bosonit.local:4040\n",
       "SparkContext available as 'sc' (version = 3.1.1, master = local[*], app id = local-1622476253947)\n",
       "SparkSession available as 'spark'\n"
      ]
     },
     "metadata": {},
     "output_type": "display_data"
    },
    {
     "data": {
      "text/plain": [
       "import org.apache.spark.sql.SparkSession\r\n",
       "import org.apache.spark.sql.functions._\r\n"
      ]
     },
     "execution_count": 1,
     "metadata": {},
     "output_type": "execute_result"
    }
   ],
   "source": [
    "import org.apache.spark.sql.SparkSession\n",
    "import org.apache.spark.sql.functions._"
   ]
  },
  {
   "cell_type": "code",
   "execution_count": 3,
   "id": "8a48c06e",
   "metadata": {},
   "outputs": [
    {
     "data": {
      "text/plain": [
       "strings: org.apache.spark.sql.DataFrame = [value: string]\r\n"
      ]
     },
     "execution_count": 3,
     "metadata": {},
     "output_type": "execute_result"
    }
   ],
   "source": [
    "val strings = spark.read.text(\"C:/Spark/README.md\")"
   ]
  },
  {
   "cell_type": "code",
   "execution_count": 24,
   "id": "540c01ab",
   "metadata": {},
   "outputs": [
    {
     "name": "stdout",
     "output_type": "stream",
     "text": [
      "+--------------------------------------------------------------------------------+\n",
      "|value                                                                           |\n",
      "+--------------------------------------------------------------------------------+\n",
      "|# Apache Spark                                                                  |\n",
      "|                                                                                |\n",
      "|Spark is a unified analytics engine for large-scale data processing. It provides|\n",
      "|high-level APIs in Scala, Java, Python, and R, and an optimized engine that     |\n",
      "|supports general computation graphs for data analysis. It also supports a       |\n",
      "|rich set of higher-level tools including Spark SQL for SQL and DataFrames,      |\n",
      "|MLlib for machine learning, GraphX for graph processing,                        |\n",
      "|and Structured Streaming for stream processing.                                 |\n",
      "|                                                                                |\n",
      "|<https://spark.apache.org/>                                                     |\n",
      "+--------------------------------------------------------------------------------+\n",
      "only showing top 10 rows\n",
      "\r\n"
     ]
    }
   ],
   "source": [
    "strings.show(10, false)"
   ]
  },
  {
   "cell_type": "code",
   "execution_count": 25,
   "id": "08908ee4",
   "metadata": {},
   "outputs": [
    {
     "data": {
      "text/plain": [
       "res15: Long = 108\r\n"
      ]
     },
     "execution_count": 25,
     "metadata": {},
     "output_type": "execute_result"
    }
   ],
   "source": [
    "strings.count()"
   ]
  },
  {
   "cell_type": "code",
   "execution_count": 4,
   "id": "875bf3e6",
   "metadata": {},
   "outputs": [
    {
     "data": {
      "text/plain": [
       "filtered: org.apache.spark.sql.Dataset[org.apache.spark.sql.Row] = [value: string]\r\n"
      ]
     },
     "execution_count": 4,
     "metadata": {},
     "output_type": "execute_result"
    }
   ],
   "source": [
    "val filtered = strings.filter(col(\"value\").contains(\"Spark\"))"
   ]
  },
  {
   "cell_type": "code",
   "execution_count": 5,
   "id": "79d9681a",
   "metadata": {},
   "outputs": [
    {
     "data": {
      "text/plain": [
       "res0: Long = 19\r\n"
      ]
     },
     "execution_count": 5,
     "metadata": {},
     "output_type": "execute_result"
    }
   ],
   "source": [
    "filtered.count()"
   ]
  },
  {
   "cell_type": "markdown",
   "id": "5e88ebc8",
   "metadata": {},
   "source": [
    "# PYTHON\n"
   ]
  },
  {
   "cell_type": "code",
   "execution_count": 3,
   "id": "bf91edf5",
   "metadata": {},
   "outputs": [],
   "source": [
    "strings = spark.read.text(\"C:/Spark/README.md\")"
   ]
  },
  {
   "cell_type": "code",
   "execution_count": 4,
   "id": "51d557c8",
   "metadata": {},
   "outputs": [
    {
     "name": "stdout",
     "output_type": "stream",
     "text": [
      "+--------------------------------------------------------------------------------+\n",
      "|value                                                                           |\n",
      "+--------------------------------------------------------------------------------+\n",
      "|# Apache Spark                                                                  |\n",
      "|                                                                                |\n",
      "|Spark is a unified analytics engine for large-scale data processing. It provides|\n",
      "|high-level APIs in Scala, Java, Python, and R, and an optimized engine that     |\n",
      "|supports general computation graphs for data analysis. It also supports a       |\n",
      "|rich set of higher-level tools including Spark SQL for SQL and DataFrames,      |\n",
      "|MLlib for machine learning, GraphX for graph processing,                        |\n",
      "|and Structured Streaming for stream processing.                                 |\n",
      "|                                                                                |\n",
      "|<https://spark.apache.org/>                                                     |\n",
      "+--------------------------------------------------------------------------------+\n",
      "only showing top 10 rows\n",
      "\n"
     ]
    }
   ],
   "source": [
    "strings.show(10, truncate=False)"
   ]
  },
  {
   "cell_type": "code",
   "execution_count": 5,
   "id": "fcd846ce",
   "metadata": {},
   "outputs": [
    {
     "data": {
      "text/plain": [
       "108"
      ]
     },
     "execution_count": 5,
     "metadata": {},
     "output_type": "execute_result"
    }
   ],
   "source": [
    "strings.count()"
   ]
  },
  {
   "cell_type": "code",
   "execution_count": 6,
   "id": "3145936a",
   "metadata": {},
   "outputs": [],
   "source": [
    "filtered=strings.filter(strings.value.contains(\"Spark\"))"
   ]
  },
  {
   "cell_type": "code",
   "execution_count": 7,
   "id": "36a1afbe",
   "metadata": {},
   "outputs": [
    {
     "data": {
      "text/plain": [
       "19"
      ]
     },
     "execution_count": 7,
     "metadata": {},
     "output_type": "execute_result"
    }
   ],
   "source": [
    "filtered.count()"
   ]
  }
 ],
 "metadata": {
  "kernelspec": {
   "display_name": "spylon-kernel",
   "language": "scala",
   "name": "spylon-kernel"
  },
  "language_info": {
   "codemirror_mode": "text/x-scala",
   "file_extension": ".scala",
   "help_links": [
    {
     "text": "MetaKernel Magics",
     "url": "https://metakernel.readthedocs.io/en/latest/source/README.html"
    }
   ],
   "mimetype": "text/x-scala",
   "name": "scala",
   "pygments_lexer": "scala",
   "version": "0.4.1"
  }
 },
 "nbformat": 4,
 "nbformat_minor": 5
}
