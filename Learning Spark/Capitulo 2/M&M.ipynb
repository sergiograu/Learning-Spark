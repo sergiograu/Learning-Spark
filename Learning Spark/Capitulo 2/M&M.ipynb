{
 "cells": [
  {
   "cell_type": "markdown",
   "id": "c0f994d4",
   "metadata": {},
   "source": [
    "# M&M\n",
    "\n",
    "# PYTHON"
   ]
  },
  {
   "cell_type": "code",
   "execution_count": 1,
   "id": "adbaf5f5",
   "metadata": {},
   "outputs": [],
   "source": [
    "import sys\n",
    "from pyspark.sql import SparkSession\n",
    "from pyspark.sql.functions import count\n",
    "from pyspark.sql import functions as F"
   ]
  },
  {
   "cell_type": "code",
   "execution_count": 2,
   "id": "d2bf8406",
   "metadata": {},
   "outputs": [],
   "source": [
    "spark=(SparkSession\n",
    "      .builder\n",
    "      .appName(\"PythonMnMCount\")\n",
    "      .getOrCreate())"
   ]
  },
  {
   "cell_type": "code",
   "execution_count": 5,
   "id": "1a2c60c9",
   "metadata": {},
   "outputs": [],
   "source": [
    "mnm_file=\"C:/LearningSparkV2-master/databricks-datasets/learning-spark-v2/mnm_dataset.csv\""
   ]
  },
  {
   "cell_type": "code",
   "execution_count": 6,
   "id": "896abb51",
   "metadata": {},
   "outputs": [],
   "source": [
    "mnm_df=(spark.read.format(\"csv\")\n",
    "       .option(\"header\",\"true\")\n",
    "       .option(\"inferSchema\",\"true\")\n",
    "       .load(mnm_file))"
   ]
  },
  {
   "cell_type": "code",
   "execution_count": 7,
   "id": "2a043f82",
   "metadata": {},
   "outputs": [
    {
     "name": "stdout",
     "output_type": "stream",
     "text": [
      "+-----+------+-----+\n",
      "|State|Color |Count|\n",
      "+-----+------+-----+\n",
      "|TX   |Red   |20   |\n",
      "|NV   |Blue  |66   |\n",
      "|CO   |Blue  |79   |\n",
      "|OR   |Blue  |71   |\n",
      "|WA   |Yellow|93   |\n",
      "+-----+------+-----+\n",
      "only showing top 5 rows\n",
      "\n"
     ]
    }
   ],
   "source": [
    "mnm_df.show(5, truncate=False)"
   ]
  },
  {
   "cell_type": "code",
   "execution_count": 15,
   "id": "a40f48c6",
   "metadata": {},
   "outputs": [
    {
     "name": "stdout",
     "output_type": "stream",
     "text": [
      "+-------+-----+------+-----------------+\n",
      "|summary|State| Color|            Count|\n",
      "+-------+-----+------+-----------------+\n",
      "|  count|99999| 99999|            99999|\n",
      "|   mean| null|  null|55.00090000900009|\n",
      "| stddev| null|  null|26.26648202084822|\n",
      "|    min|   AZ|  Blue|               10|\n",
      "|    max|   WY|Yellow|              100|\n",
      "+-------+-----+------+-----------------+\n",
      "\n"
     ]
    }
   ],
   "source": [
    "mnm_df.describe().show()"
   ]
  },
  {
   "cell_type": "code",
   "execution_count": 8,
   "id": "f087588c",
   "metadata": {},
   "outputs": [],
   "source": [
    "count_mnm_df= (mnm_df\n",
    "              .select(\"State\",\"Color\",\"Count\")\n",
    "              .groupBy(\"State\")\n",
    "              .agg(count(\"Count\").alias(\"Total\"))\n",
    "              .orderBy(\"Total\", ascending=False))"
   ]
  },
  {
   "cell_type": "code",
   "execution_count": 9,
   "id": "940488c9",
   "metadata": {},
   "outputs": [
    {
     "name": "stdout",
     "output_type": "stream",
     "text": [
      "+-----+-----+\n",
      "|State|Total|\n",
      "+-----+-----+\n",
      "|CA   |10164|\n",
      "|TX   |10072|\n",
      "|WA   |10065|\n",
      "|CO   |10051|\n",
      "|NM   |10050|\n",
      "|NV   |10025|\n",
      "|AZ   |10001|\n",
      "|OR   |9903 |\n",
      "|UT   |9886 |\n",
      "|WY   |9782 |\n",
      "+-----+-----+\n",
      "\n",
      "Total Rows = 10\n"
     ]
    }
   ],
   "source": [
    "count_mnm_df.show(60, truncate=False)\n",
    "print(\"Total Rows = %d\" % (count_mnm_df.count()))"
   ]
  },
  {
   "cell_type": "code",
   "execution_count": 10,
   "id": "2a36244b",
   "metadata": {},
   "outputs": [],
   "source": [
    "count1_mnm_df= (mnm_df\n",
    "              .select(\"State\",\"Color\",\"Count\")\n",
    "              .groupBy(\"State\",\"Color\")\n",
    "              .agg(count(\"Count\").alias(\"Total\"))\n",
    "              .orderBy(\"Total\", ascending=False))"
   ]
  },
  {
   "cell_type": "code",
   "execution_count": 12,
   "id": "3c9cdcbe",
   "metadata": {
    "scrolled": true
   },
   "outputs": [
    {
     "name": "stdout",
     "output_type": "stream",
     "text": [
      "+-----+------+-----+\n",
      "|State|Color |Total|\n",
      "+-----+------+-----+\n",
      "|CA   |Yellow|1807 |\n",
      "|WA   |Green |1779 |\n",
      "|OR   |Orange|1743 |\n",
      "|TX   |Green |1737 |\n",
      "|TX   |Red   |1725 |\n",
      "|CA   |Green |1723 |\n",
      "|CO   |Yellow|1721 |\n",
      "|CA   |Brown |1718 |\n",
      "|CO   |Green |1713 |\n",
      "|NV   |Orange|1712 |\n",
      "|TX   |Yellow|1703 |\n",
      "|NV   |Green |1698 |\n",
      "|AZ   |Brown |1698 |\n",
      "|CO   |Blue  |1695 |\n",
      "|WY   |Green |1695 |\n",
      "|NM   |Red   |1690 |\n",
      "|AZ   |Orange|1689 |\n",
      "|NM   |Yellow|1688 |\n",
      "|NM   |Brown |1687 |\n",
      "|UT   |Orange|1684 |\n",
      "|NM   |Green |1682 |\n",
      "|UT   |Red   |1680 |\n",
      "|AZ   |Green |1676 |\n",
      "|NV   |Yellow|1675 |\n",
      "|NV   |Blue  |1673 |\n",
      "|WA   |Red   |1671 |\n",
      "|WY   |Red   |1670 |\n",
      "|WA   |Brown |1669 |\n",
      "|NM   |Orange|1665 |\n",
      "|WY   |Blue  |1664 |\n",
      "|WA   |Yellow|1663 |\n",
      "|WA   |Orange|1658 |\n",
      "|CA   |Orange|1657 |\n",
      "|NV   |Brown |1657 |\n",
      "|CA   |Red   |1656 |\n",
      "|CO   |Brown |1656 |\n",
      "|UT   |Blue  |1655 |\n",
      "|AZ   |Yellow|1654 |\n",
      "|TX   |Orange|1652 |\n",
      "|AZ   |Red   |1648 |\n",
      "|OR   |Blue  |1646 |\n",
      "|OR   |Red   |1645 |\n",
      "|UT   |Yellow|1645 |\n",
      "|CO   |Orange|1642 |\n",
      "|TX   |Brown |1641 |\n",
      "|NM   |Blue  |1638 |\n",
      "|AZ   |Blue  |1636 |\n",
      "|OR   |Green |1634 |\n",
      "|UT   |Brown |1631 |\n",
      "|WY   |Yellow|1626 |\n",
      "|WA   |Blue  |1625 |\n",
      "|CO   |Red   |1624 |\n",
      "|OR   |Brown |1621 |\n",
      "|TX   |Blue  |1614 |\n",
      "|OR   |Yellow|1614 |\n",
      "|NV   |Red   |1610 |\n",
      "|CA   |Blue  |1603 |\n",
      "|WY   |Orange|1595 |\n",
      "|UT   |Green |1591 |\n",
      "|WY   |Brown |1532 |\n",
      "+-----+------+-----+\n",
      "\n",
      "Total Rows = 60\n"
     ]
    }
   ],
   "source": [
    "count1_mnm_df.show(60, truncate=False)\n",
    "print(\"Total Rows = %d\" % (count1_mnm_df.count()))"
   ]
  },
  {
   "cell_type": "code",
   "execution_count": 17,
   "id": "9c53cda4",
   "metadata": {},
   "outputs": [
    {
     "name": "stdout",
     "output_type": "stream",
     "text": [
      "+-----+----------+\n",
      "|State|max(Total)|\n",
      "+-----+----------+\n",
      "|   AZ|      1698|\n",
      "|   OR|      1743|\n",
      "|   WY|      1695|\n",
      "|   NV|      1712|\n",
      "|   CA|      1807|\n",
      "|   WA|      1779|\n",
      "|   NM|      1690|\n",
      "|   TX|      1737|\n",
      "|   CO|      1721|\n",
      "|   UT|      1684|\n",
      "+-----+----------+\n",
      "\n"
     ]
    }
   ],
   "source": [
    "count1_mnm_df.groupBy(\"State\").max().show()"
   ]
  },
  {
   "cell_type": "code",
   "execution_count": 18,
   "id": "63282741",
   "metadata": {
    "scrolled": true
   },
   "outputs": [
    {
     "name": "stdout",
     "output_type": "stream",
     "text": [
      "+-----+----------+\n",
      "|State|sum(Total)|\n",
      "+-----+----------+\n",
      "|   AZ|     10001|\n",
      "|   OR|      9903|\n",
      "|   WY|      9782|\n",
      "|   NV|     10025|\n",
      "|   CA|     10164|\n",
      "|   WA|     10065|\n",
      "|   NM|     10050|\n",
      "|   TX|     10072|\n",
      "|   CO|     10051|\n",
      "|   UT|      9886|\n",
      "+-----+----------+\n",
      "\n"
     ]
    }
   ],
   "source": [
    "count1_mnm_df.groupBy(\"State\").sum().show()"
   ]
  },
  {
   "cell_type": "code",
   "execution_count": 19,
   "id": "52e8eef7",
   "metadata": {},
   "outputs": [],
   "source": [
    "ca_count_mnm_df= (mnm_df\n",
    "              .select(\"State\",\"Color\",\"Count\")\n",
    "              .where(mnm_df.State==\"CA\")\n",
    "              .groupBy(\"State\",\"Color\")\n",
    "              .agg(count(\"Count\").alias(\"Total\"))\n",
    "              .orderBy(\"Total\", ascending=False))"
   ]
  },
  {
   "cell_type": "code",
   "execution_count": 22,
   "id": "c71f0685",
   "metadata": {},
   "outputs": [
    {
     "name": "stdout",
     "output_type": "stream",
     "text": [
      "+-----+------+-----+\n",
      "|State|Color |Total|\n",
      "+-----+------+-----+\n",
      "|CA   |Yellow|1807 |\n",
      "|CA   |Green |1723 |\n",
      "|CA   |Brown |1718 |\n",
      "|CA   |Orange|1657 |\n",
      "|CA   |Red   |1656 |\n",
      "|CA   |Blue  |1603 |\n",
      "+-----+------+-----+\n",
      "\n",
      "Total Rows 6\n"
     ]
    }
   ],
   "source": [
    "ca_count_mnm_df.show(n=10, truncate=False)\n",
    "print(\"Total Rows %d\" % (ca_count_mnm_df.count()))"
   ]
  },
  {
   "cell_type": "markdown",
   "id": "cd4e2f1e",
   "metadata": {},
   "source": [
    "Ejercicios python extras"
   ]
  },
  {
   "cell_type": "code",
   "execution_count": 29,
   "id": "5fa0ce42",
   "metadata": {},
   "outputs": [],
   "source": [
    "max_mnm_df=(mnm_df\n",
    "           .select(\"State\",\"Color\",\"Count\")\n",
    "           .groupBy(\"Color\")\n",
    "           .agg({\"Count\":\"max\"})\n",
    "           .orderBy(\"Color\",ascending=True))"
   ]
  },
  {
   "cell_type": "code",
   "execution_count": 30,
   "id": "d00e5bb3",
   "metadata": {
    "scrolled": false
   },
   "outputs": [
    {
     "name": "stdout",
     "output_type": "stream",
     "text": [
      "+------+----------+\n",
      "|Color |max(Count)|\n",
      "+------+----------+\n",
      "|Blue  |100       |\n",
      "|Brown |100       |\n",
      "|Green |100       |\n",
      "|Orange|100       |\n",
      "|Red   |100       |\n",
      "|Yellow|100       |\n",
      "+------+----------+\n",
      "\n"
     ]
    }
   ],
   "source": [
    "max_mnm_df.show(10, truncate=False)"
   ]
  },
  {
   "cell_type": "code",
   "execution_count": 31,
   "id": "db3c3cc0",
   "metadata": {},
   "outputs": [],
   "source": [
    "min_mnm_df=(mnm_df\n",
    "           .select(\"State\",\"Color\",\"Count\")\n",
    "           .groupBy(\"Color\")\n",
    "           .agg({\"Count\":\"min\"})\n",
    "           .orderBy(\"Color\",ascending=False))"
   ]
  },
  {
   "cell_type": "code",
   "execution_count": 32,
   "id": "9e9a3636",
   "metadata": {},
   "outputs": [
    {
     "name": "stdout",
     "output_type": "stream",
     "text": [
      "+------+----------+\n",
      "|Color |min(Count)|\n",
      "+------+----------+\n",
      "|Yellow|10        |\n",
      "|Red   |10        |\n",
      "|Orange|10        |\n",
      "|Green |10        |\n",
      "|Brown |10        |\n",
      "|Blue  |10        |\n",
      "+------+----------+\n",
      "\n"
     ]
    }
   ],
   "source": [
    "min_mnm_df.show(10, truncate=False)"
   ]
  },
  {
   "cell_type": "code",
   "execution_count": 34,
   "id": "d28a3e6f",
   "metadata": {},
   "outputs": [],
   "source": [
    "state_count_mnm_df= (mnm_df\n",
    "              .select(\"State\",\"Color\",\"Count\")\n",
    "              .where((mnm_df.State==\"CA\")|(mnm_df.State==\"NV\")|(mnm_df.State==\"TX\")|(mnm_df.State==\"CO\"))\n",
    "              .groupBy(\"State\",\"Color\")\n",
    "              .agg(count(\"Count\").alias(\"Total\"))\n",
    "              .orderBy(\"Total\", ascending=False))"
   ]
  },
  {
   "cell_type": "code",
   "execution_count": 36,
   "id": "e612502f",
   "metadata": {},
   "outputs": [
    {
     "name": "stdout",
     "output_type": "stream",
     "text": [
      "+-----+------+-----+\n",
      "|State|Color |Total|\n",
      "+-----+------+-----+\n",
      "|CA   |Yellow|1807 |\n",
      "|TX   |Green |1737 |\n",
      "|TX   |Red   |1725 |\n",
      "|CA   |Green |1723 |\n",
      "|CO   |Yellow|1721 |\n",
      "|CA   |Brown |1718 |\n",
      "|CO   |Green |1713 |\n",
      "|NV   |Orange|1712 |\n",
      "|TX   |Yellow|1703 |\n",
      "|NV   |Green |1698 |\n",
      "+-----+------+-----+\n",
      "only showing top 10 rows\n",
      "\n",
      "Total Rows 24\n"
     ]
    }
   ],
   "source": [
    "state_count_mnm_df.show(n=10, truncate=False)\n",
    "print(\"Total Rows %d\" % (state_count_mnm_df.count()))"
   ]
  },
  {
   "cell_type": "code",
   "execution_count": 38,
   "id": "3cbdcf0a",
   "metadata": {},
   "outputs": [],
   "source": [
    "todo_mnm_df=(mnm_df\n",
    "            .select(\"Color\",\"State\",\"Count\")\n",
    "            .groupBy(\"State\",\"Color\")\n",
    "            .agg(F.max(\"Count\"),F.min(\"Count\"),F.avg(\"Count\"),F.count(\"Count\"))\n",
    "            .orderBy(\"State\",\"Color\"))"
   ]
  },
  {
   "cell_type": "code",
   "execution_count": 39,
   "id": "72a55cab",
   "metadata": {},
   "outputs": [
    {
     "name": "stdout",
     "output_type": "stream",
     "text": [
      "+-----+------+----------+----------+------------------+------------+\n",
      "|State|Color |max(Count)|min(Count)|avg(Count)        |count(Count)|\n",
      "+-----+------+----------+----------+------------------+------------+\n",
      "|AZ   |Blue  |100       |10        |54.99449877750611 |1636        |\n",
      "|AZ   |Brown |100       |10        |54.350412249705535|1698        |\n",
      "|AZ   |Green |100       |10        |54.82219570405728 |1676        |\n",
      "|AZ   |Orange|100       |10        |54.28300769686205 |1689        |\n",
      "|AZ   |Red   |100       |10        |54.637135922330096|1648        |\n",
      "|AZ   |Yellow|100       |10        |54.98548972188634 |1654        |\n",
      "|CA   |Blue  |100       |10        |55.59762944479102 |1603        |\n",
      "|CA   |Brown |100       |10        |55.740395809080326|1718        |\n",
      "|CA   |Green |100       |10        |54.268717353453276|1723        |\n",
      "|CA   |Orange|100       |10        |54.502715751357876|1657        |\n",
      "+-----+------+----------+----------+------------------+------------+\n",
      "only showing top 10 rows\n",
      "\n"
     ]
    }
   ],
   "source": [
    "todo_mnm_df.show(10, truncate=False)"
   ]
  },
  {
   "cell_type": "markdown",
   "id": "cce354de",
   "metadata": {},
   "source": [
    "# SCALA"
   ]
  },
  {
   "cell_type": "code",
   "execution_count": 1,
   "id": "6cdbfd21",
   "metadata": {},
   "outputs": [
    {
     "data": {
      "text/plain": [
       "Intitializing Scala interpreter ..."
      ]
     },
     "metadata": {},
     "output_type": "display_data"
    },
    {
     "data": {
      "text/plain": [
       "Spark Web UI available at http://EM2021002861.bosonit.local:4040\n",
       "SparkContext available as 'sc' (version = 3.1.1, master = local[*], app id = local-1622502223256)\n",
       "SparkSession available as 'spark'\n"
      ]
     },
     "metadata": {},
     "output_type": "display_data"
    },
    {
     "data": {
      "text/plain": [
       "import org.apache.spark.sql.SparkSession\r\n",
       "import org.apache.spark.sql.functions._\r\n"
      ]
     },
     "execution_count": 1,
     "metadata": {},
     "output_type": "execute_result"
    }
   ],
   "source": [
    "import org.apache.spark.sql.SparkSession\n",
    "import org.apache.spark.sql.functions._"
   ]
  },
  {
   "cell_type": "code",
   "execution_count": 2,
   "id": "1706baed",
   "metadata": {},
   "outputs": [
    {
     "data": {
      "text/plain": [
       "spark: org.apache.spark.sql.SparkSession = org.apache.spark.sql.SparkSession@6f6feadd\r\n"
      ]
     },
     "execution_count": 2,
     "metadata": {},
     "output_type": "execute_result"
    }
   ],
   "source": [
    "val spark=SparkSession\n",
    "          .builder\n",
    "          .appName(\"MnMCount\")\n",
    "          .getOrCreate()"
   ]
  },
  {
   "cell_type": "code",
   "execution_count": 4,
   "id": "27a9e870",
   "metadata": {},
   "outputs": [
    {
     "data": {
      "text/plain": [
       "mnm_File: String = C:/LearningSparkV2-master/databricks-datasets/learning-spark-v2/mnm_dataset.csv\r\n"
      ]
     },
     "execution_count": 4,
     "metadata": {},
     "output_type": "execute_result"
    }
   ],
   "source": [
    "val mnm_File=\"C:/LearningSparkV2-master/databricks-datasets/learning-spark-v2/mnm_dataset.csv\""
   ]
  },
  {
   "cell_type": "code",
   "execution_count": 5,
   "id": "30616702",
   "metadata": {},
   "outputs": [
    {
     "data": {
      "text/plain": [
       "mnm_df: org.apache.spark.sql.DataFrame = [State: string, Color: string ... 1 more field]\r\n"
      ]
     },
     "execution_count": 5,
     "metadata": {},
     "output_type": "execute_result"
    }
   ],
   "source": [
    "val mnm_df = spark.read.format(\"csv\")\n",
    "             .option(\"header\", \"true\")\n",
    "             .option(\"inferSchema\", \"true\")\n",
    "             .load(mnm_File)"
   ]
  },
  {
   "cell_type": "code",
   "execution_count": 6,
   "id": "aa1c9437",
   "metadata": {},
   "outputs": [
    {
     "name": "stdout",
     "output_type": "stream",
     "text": [
      "+-----+------+-----+\n",
      "|State|Color |Count|\n",
      "+-----+------+-----+\n",
      "|TX   |Red   |20   |\n",
      "|NV   |Blue  |66   |\n",
      "|CO   |Blue  |79   |\n",
      "|OR   |Blue  |71   |\n",
      "|WA   |Yellow|93   |\n",
      "|WY   |Blue  |16   |\n",
      "|CA   |Yellow|53   |\n",
      "|WA   |Green |60   |\n",
      "|OR   |Green |71   |\n",
      "|TX   |Green |68   |\n",
      "+-----+------+-----+\n",
      "only showing top 10 rows\n",
      "\r\n"
     ]
    }
   ],
   "source": [
    "mnm_df.show(10, false)"
   ]
  },
  {
   "cell_type": "code",
   "execution_count": 7,
   "id": "152b7b46",
   "metadata": {},
   "outputs": [
    {
     "name": "stdout",
     "output_type": "stream",
     "text": [
      "+-------+-----+------+-----------------+\n",
      "|summary|State| Color|            Count|\n",
      "+-------+-----+------+-----------------+\n",
      "|  count|99999| 99999|            99999|\n",
      "|   mean| null|  null|55.00090000900009|\n",
      "| stddev| null|  null|26.26648202084822|\n",
      "|    min|   AZ|  Blue|               10|\n",
      "|    max|   WY|Yellow|              100|\n",
      "+-------+-----+------+-----------------+\n",
      "\r\n"
     ]
    }
   ],
   "source": [
    "mnm_df.describe().show()"
   ]
  },
  {
   "cell_type": "code",
   "execution_count": 11,
   "id": "69576795",
   "metadata": {},
   "outputs": [
    {
     "data": {
      "text/plain": [
       "count_mnm_df: org.apache.spark.sql.Dataset[org.apache.spark.sql.Row] = [Color: string, Total: bigint]\r\n"
      ]
     },
     "execution_count": 11,
     "metadata": {},
     "output_type": "execute_result"
    }
   ],
   "source": [
    "val count_mnm_df= mnm_df\n",
    "                 .select(\"State\",\"Color\",\"Count\")\n",
    "                 .groupBy(\"Color\")\n",
    "                 .agg(count(\"Count\").alias(\"Total\"))\n",
    "                 .orderBy(desc(\"Total\"))"
   ]
  },
  {
   "cell_type": "code",
   "execution_count": 12,
   "id": "d556d6e6",
   "metadata": {},
   "outputs": [
    {
     "name": "stdout",
     "output_type": "stream",
     "text": [
      "+------+-----+\n",
      "| Color|Total|\n",
      "+------+-----+\n",
      "| Green|16928|\n",
      "|Yellow|16796|\n",
      "|Orange|16697|\n",
      "|   Red|16619|\n",
      "| Brown|16510|\n",
      "|  Blue|16449|\n",
      "+------+-----+\n",
      "\r\n"
     ]
    }
   ],
   "source": [
    "count_mnm_df.show()"
   ]
  },
  {
   "cell_type": "code",
   "execution_count": 19,
   "id": "cb9c362c",
   "metadata": {},
   "outputs": [
    {
     "data": {
      "text/plain": [
       "count1_mnm_df: org.apache.spark.sql.Dataset[org.apache.spark.sql.Row] = [State: string, Color: string ... 1 more field]\r\n"
      ]
     },
     "execution_count": 19,
     "metadata": {},
     "output_type": "execute_result"
    }
   ],
   "source": [
    "val count1_mnm_df= mnm_df\n",
    "                 .select(\"State\",\"Color\",\"Count\")\n",
    "                 .groupBy(\"State\",\"Color\")\n",
    "                 .agg(count(\"Count\").alias(\"Total\"))\n",
    "                 .orderBy(desc(\"State\"),desc(\"Color\"),desc(\"Total\"))"
   ]
  },
  {
   "cell_type": "code",
   "execution_count": 20,
   "id": "1b0dd4a6",
   "metadata": {},
   "outputs": [
    {
     "name": "stdout",
     "output_type": "stream",
     "text": [
      "+-----+------+-----+\n",
      "|State| Color|Total|\n",
      "+-----+------+-----+\n",
      "|   WY|Yellow| 1626|\n",
      "|   WY|   Red| 1670|\n",
      "|   WY|Orange| 1595|\n",
      "|   WY| Green| 1695|\n",
      "|   WY| Brown| 1532|\n",
      "|   WY|  Blue| 1664|\n",
      "|   WA|Yellow| 1663|\n",
      "|   WA|   Red| 1671|\n",
      "|   WA|Orange| 1658|\n",
      "|   WA| Green| 1779|\n",
      "|   WA| Brown| 1669|\n",
      "|   WA|  Blue| 1625|\n",
      "|   UT|Yellow| 1645|\n",
      "|   UT|   Red| 1680|\n",
      "|   UT|Orange| 1684|\n",
      "|   UT| Green| 1591|\n",
      "|   UT| Brown| 1631|\n",
      "|   UT|  Blue| 1655|\n",
      "|   TX|Yellow| 1703|\n",
      "|   TX|   Red| 1725|\n",
      "+-----+------+-----+\n",
      "only showing top 20 rows\n",
      "\r\n"
     ]
    }
   ],
   "source": [
    "count1_mnm_df.show()"
   ]
  },
  {
   "cell_type": "code",
   "execution_count": 27,
   "id": "710f2cee",
   "metadata": {
    "scrolled": true
   },
   "outputs": [
    {
     "name": "stdout",
     "output_type": "stream",
     "text": [
      "+-----+----------+\n",
      "|State|max(Total)|\n",
      "+-----+----------+\n",
      "|   UT|      1684|\n",
      "|   NM|      1690|\n",
      "|   WY|      1695|\n",
      "|   AZ|      1698|\n",
      "|   NV|      1712|\n",
      "|   CO|      1721|\n",
      "|   TX|      1737|\n",
      "|   OR|      1743|\n",
      "|   WA|      1779|\n",
      "|   CA|      1807|\n",
      "+-----+----------+\n",
      "\r\n"
     ]
    }
   ],
   "source": [
    "count1_mnm_df.groupBy(\"State\").max().orderBy(\"max(Total)\").show()"
   ]
  },
  {
   "cell_type": "code",
   "execution_count": 28,
   "id": "39038dfc",
   "metadata": {},
   "outputs": [
    {
     "name": "stdout",
     "output_type": "stream",
     "text": [
      "+-----+----------+\n",
      "|State|sum(Total)|\n",
      "+-----+----------+\n",
      "|   WY|      9782|\n",
      "|   UT|      9886|\n",
      "|   OR|      9903|\n",
      "|   AZ|     10001|\n",
      "|   NV|     10025|\n",
      "|   NM|     10050|\n",
      "|   CO|     10051|\n",
      "|   WA|     10065|\n",
      "|   TX|     10072|\n",
      "|   CA|     10164|\n",
      "+-----+----------+\n",
      "\r\n"
     ]
    }
   ],
   "source": [
    "count1_mnm_df.groupBy(\"State\").sum().orderBy(\"sum(Total)\").show()"
   ]
  },
  {
   "cell_type": "code",
   "execution_count": 31,
   "id": "83fff5ce",
   "metadata": {},
   "outputs": [
    {
     "data": {
      "text/plain": [
       "ca_count_mnm_df: org.apache.spark.sql.Dataset[org.apache.spark.sql.Row] = [State: string, Color: string ... 1 more field]\r\n"
      ]
     },
     "execution_count": 31,
     "metadata": {},
     "output_type": "execute_result"
    }
   ],
   "source": [
    "val ca_count_mnm_df= mnm_df\n",
    "                 .select(\"State\",\"Color\",\"Count\")\n",
    "                 .where(col(\"State\")===\"CA\")\n",
    "                 .groupBy(\"State\",\"Color\")\n",
    "                 .agg(count(\"Count\").alias(\"Total\"))\n",
    "                 .orderBy(desc(\"State\"),desc(\"Color\"),desc(\"Total\"))"
   ]
  },
  {
   "cell_type": "code",
   "execution_count": 36,
   "id": "56e51069",
   "metadata": {
    "scrolled": true
   },
   "outputs": [
    {
     "name": "stdout",
     "output_type": "stream",
     "text": [
      "+-----+------+-----+\n",
      "|State|Color |Total|\n",
      "+-----+------+-----+\n",
      "|CA   |Yellow|1807 |\n",
      "|CA   |Red   |1656 |\n",
      "|CA   |Orange|1657 |\n",
      "|CA   |Green |1723 |\n",
      "|CA   |Brown |1718 |\n",
      "|CA   |Blue  |1603 |\n",
      "+-----+------+-----+\n",
      "\n",
      "Total de filas = 6\n"
     ]
    }
   ],
   "source": [
    "ca_count_mnm_df.show(10, false)\n",
    "println(s\"Total de filas = ${ca_count_mnm_df.count()}\")"
   ]
  },
  {
   "cell_type": "markdown",
   "id": "61193f37",
   "metadata": {},
   "source": [
    "Ejercicios Scala extra"
   ]
  },
  {
   "cell_type": "code",
   "execution_count": 41,
   "id": "f16f56f2",
   "metadata": {},
   "outputs": [
    {
     "data": {
      "text/plain": [
       "max_mnm_df: org.apache.spark.sql.Dataset[org.apache.spark.sql.Row] = [Color: string, max(Count): int]\r\n"
      ]
     },
     "execution_count": 41,
     "metadata": {},
     "output_type": "execute_result"
    }
   ],
   "source": [
    "val max_mnm_df= mnm_df\n",
    "                .select(\"State\",\"Color\",\"Count\")\n",
    "                .groupBy(\"Color\")\n",
    "                .agg(max(\"Count\"))\n",
    "                .orderBy(asc(\"Color\"))"
   ]
  },
  {
   "cell_type": "code",
   "execution_count": 42,
   "id": "d82807d8",
   "metadata": {},
   "outputs": [
    {
     "name": "stdout",
     "output_type": "stream",
     "text": [
      "+------+----------+\n",
      "| Color|max(Count)|\n",
      "+------+----------+\n",
      "|  Blue|       100|\n",
      "| Brown|       100|\n",
      "| Green|       100|\n",
      "|Orange|       100|\n",
      "|   Red|       100|\n",
      "|Yellow|       100|\n",
      "+------+----------+\n",
      "\r\n"
     ]
    }
   ],
   "source": [
    "max_mnm_df.show()"
   ]
  },
  {
   "cell_type": "code",
   "execution_count": 43,
   "id": "adfeb249",
   "metadata": {},
   "outputs": [
    {
     "data": {
      "text/plain": [
       "min_mnm_df: org.apache.spark.sql.Dataset[org.apache.spark.sql.Row] = [Color: string, min(Count): int]\r\n"
      ]
     },
     "execution_count": 43,
     "metadata": {},
     "output_type": "execute_result"
    }
   ],
   "source": [
    "val min_mnm_df= mnm_df\n",
    "                .select(\"State\",\"Color\",\"Count\")\n",
    "                .groupBy(\"Color\")\n",
    "                .agg(min(\"Count\"))\n",
    "                .orderBy(asc(\"Color\"))"
   ]
  },
  {
   "cell_type": "code",
   "execution_count": 44,
   "id": "9b00ba64",
   "metadata": {},
   "outputs": [
    {
     "name": "stdout",
     "output_type": "stream",
     "text": [
      "+------+----------+\n",
      "| Color|min(Count)|\n",
      "+------+----------+\n",
      "|  Blue|        10|\n",
      "| Brown|        10|\n",
      "| Green|        10|\n",
      "|Orange|        10|\n",
      "|   Red|        10|\n",
      "|Yellow|        10|\n",
      "+------+----------+\n",
      "\r\n"
     ]
    }
   ],
   "source": [
    "min_mnm_df.show()"
   ]
  },
  {
   "cell_type": "code",
   "execution_count": 47,
   "id": "40575394",
   "metadata": {},
   "outputs": [
    {
     "data": {
      "text/plain": [
       "state_count_mnm_df: org.apache.spark.sql.Dataset[org.apache.spark.sql.Row] = [State: string, Color: string ... 1 more field]\r\n"
      ]
     },
     "execution_count": 47,
     "metadata": {},
     "output_type": "execute_result"
    }
   ],
   "source": [
    "val state_count_mnm_df= mnm_df\n",
    "              .select(\"State\",\"Color\",\"Count\")\n",
    "              .where((col(\"State\")===\"CA\") or (col(\"State\")===\"NV\") or (col(\"State\")===\"TX\") or (col(\"State\")===\"C0\"))\n",
    "              .groupBy(\"State\",\"Color\")\n",
    "              .agg(count(\"Count\").alias(\"Total\"))\n",
    "              .orderBy(desc(\"Total\"))"
   ]
  },
  {
   "cell_type": "code",
   "execution_count": 53,
   "id": "f6fa993e",
   "metadata": {},
   "outputs": [
    {
     "name": "stdout",
     "output_type": "stream",
     "text": [
      "+-----+------+-----+\n",
      "|State|Color |Total|\n",
      "+-----+------+-----+\n",
      "|CA   |Yellow|1807 |\n",
      "|TX   |Green |1737 |\n",
      "|TX   |Red   |1725 |\n",
      "|CA   |Green |1723 |\n",
      "|CA   |Brown |1718 |\n",
      "|NV   |Orange|1712 |\n",
      "|TX   |Yellow|1703 |\n",
      "|NV   |Green |1698 |\n",
      "|NV   |Yellow|1675 |\n",
      "|NV   |Blue  |1673 |\n",
      "+-----+------+-----+\n",
      "only showing top 10 rows\n",
      "\n",
      "Total de filas = 18\n"
     ]
    }
   ],
   "source": [
    "state_count_mnm_df.show(10, false)\n",
    "println(s\"Total de filas = ${state_count_mnm_df.count()}\")"
   ]
  },
  {
   "cell_type": "code",
   "execution_count": 55,
   "id": "f385f403",
   "metadata": {},
   "outputs": [
    {
     "data": {
      "text/plain": [
       "todo_mnm_df: org.apache.spark.sql.Dataset[org.apache.spark.sql.Row] = [State: string, Color: string ... 4 more fields]\r\n"
      ]
     },
     "execution_count": 55,
     "metadata": {},
     "output_type": "execute_result"
    }
   ],
   "source": [
    "val todo_mnm_df=mnm_df\n",
    "            .select(\"Color\",\"State\",\"Count\")\n",
    "            .groupBy(\"State\",\"Color\")\n",
    "            .agg(max(\"Count\"),min(\"Count\"),avg(\"Count\"),count(\"Count\"))\n",
    "            .orderBy(\"State\",\"Color\")"
   ]
  },
  {
   "cell_type": "code",
   "execution_count": 57,
   "id": "5a7cb819",
   "metadata": {},
   "outputs": [
    {
     "name": "stdout",
     "output_type": "stream",
     "text": [
      "+-----+------+----------+----------+------------------+------------+\n",
      "|State| Color|max(Count)|min(Count)|        avg(Count)|count(Count)|\n",
      "+-----+------+----------+----------+------------------+------------+\n",
      "|   AZ|  Blue|       100|        10| 54.99449877750611|        1636|\n",
      "|   AZ| Brown|       100|        10|54.350412249705535|        1698|\n",
      "|   AZ| Green|       100|        10| 54.82219570405728|        1676|\n",
      "|   AZ|Orange|       100|        10| 54.28300769686205|        1689|\n",
      "|   AZ|   Red|       100|        10|54.637135922330096|        1648|\n",
      "|   AZ|Yellow|       100|        10| 54.98548972188634|        1654|\n",
      "|   CA|  Blue|       100|        10| 55.59762944479102|        1603|\n",
      "|   CA| Brown|       100|        10|55.740395809080326|        1718|\n",
      "|   CA| Green|       100|        10|54.268717353453276|        1723|\n",
      "|   CA|Orange|       100|        10|54.502715751357876|        1657|\n",
      "+-----+------+----------+----------+------------------+------------+\n",
      "only showing top 10 rows\n",
      "\n",
      "Hay 60 filas\n"
     ]
    }
   ],
   "source": [
    "todo_mnm_df.show(10, true)\n",
    "println(s\"Hay ${todo_mnm_df.count()} filas\")"
   ]
  }
 ],
 "metadata": {
  "kernelspec": {
   "display_name": "spylon-kernel",
   "language": "scala",
   "name": "spylon-kernel"
  },
  "language_info": {
   "codemirror_mode": "text/x-scala",
   "file_extension": ".scala",
   "help_links": [
    {
     "text": "MetaKernel Magics",
     "url": "https://metakernel.readthedocs.io/en/latest/source/README.html"
    }
   ],
   "mimetype": "text/x-scala",
   "name": "scala",
   "pygments_lexer": "scala",
   "version": "0.4.1"
  }
 },
 "nbformat": 4,
 "nbformat_minor": 5
}
