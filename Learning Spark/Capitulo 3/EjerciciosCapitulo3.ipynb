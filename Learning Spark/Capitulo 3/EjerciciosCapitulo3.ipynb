{
 "cells": [
  {
   "cell_type": "markdown",
   "id": "af1085bd",
   "metadata": {},
   "source": [
    "# PYTHON"
   ]
  },
  {
   "cell_type": "markdown",
   "id": "7b739f19",
   "metadata": {},
   "source": [
    "Leer el csv del ejemplo del cap 2 y sacar el esquema"
   ]
  },
  {
   "cell_type": "code",
   "execution_count": 1,
   "id": "3455e757",
   "metadata": {},
   "outputs": [],
   "source": [
    "import sys\n",
    "from pyspark.sql import SparkSession\n",
    "from pyspark.sql.functions import count\n",
    "from pyspark.sql import functions as F"
   ]
  },
  {
   "cell_type": "code",
   "execution_count": 2,
   "id": "9da47102",
   "metadata": {},
   "outputs": [],
   "source": [
    "spark = (SparkSession\n",
    "        .builder\n",
    "        .appName(\"Ejercicios3\")\n",
    "        .getOrCreate())"
   ]
  },
  {
   "cell_type": "code",
   "execution_count": 3,
   "id": "0de12a8f",
   "metadata": {},
   "outputs": [],
   "source": [
    "mnm_file = \"C:/LearningSparkV2-master/databricks-datasets/learning-spark-v2/mnm_dataset.csv\""
   ]
  },
  {
   "cell_type": "code",
   "execution_count": 6,
   "id": "ef899e7f",
   "metadata": {},
   "outputs": [],
   "source": [
    "mnm_df = (spark.read.format(\"csv\")\n",
    "          .option(\"header\", \"true\")\n",
    "          .option(\"inferSchema\", \"true\")\n",
    "          .load(mnm_file))"
   ]
  },
  {
   "cell_type": "code",
   "execution_count": 7,
   "id": "680b08a3",
   "metadata": {},
   "outputs": [
    {
     "data": {
      "text/plain": [
       "StructType(List(StructField(State,StringType,true),StructField(Color,StringType,true),StructField(Count,IntegerType,true)))"
      ]
     },
     "execution_count": 7,
     "metadata": {},
     "output_type": "execute_result"
    }
   ],
   "source": [
    "mnm_df.schema"
   ]
  },
  {
   "cell_type": "code",
   "execution_count": 8,
   "id": "d2242c1d",
   "metadata": {},
   "outputs": [
    {
     "name": "stdout",
     "output_type": "stream",
     "text": [
      "root\n",
      " |-- State: string (nullable = true)\n",
      " |-- Color: string (nullable = true)\n",
      " |-- Count: integer (nullable = true)\n",
      "\n",
      "None\n"
     ]
    }
   ],
   "source": [
    "print(mnm_df.printSchema())"
   ]
  },
  {
   "cell_type": "markdown",
   "id": "dd0149aa",
   "metadata": {},
   "source": [
    "# SCALA"
   ]
  },
  {
   "cell_type": "code",
   "execution_count": 1,
   "id": "7841b675",
   "metadata": {},
   "outputs": [
    {
     "data": {
      "text/plain": [
       "Intitializing Scala interpreter ..."
      ]
     },
     "metadata": {},
     "output_type": "display_data"
    },
    {
     "data": {
      "text/plain": [
       "Spark Web UI available at http://EM2021002861.bosonit.local:4040\n",
       "SparkContext available as 'sc' (version = 3.1.1, master = local[*], app id = local-1623057379533)\n",
       "SparkSession available as 'spark'\n"
      ]
     },
     "metadata": {},
     "output_type": "display_data"
    },
    {
     "data": {
      "text/plain": [
       "import org.apache.spark.sql.SparkSession\r\n",
       "import org.apache.spark.sql.functions._\r\n"
      ]
     },
     "execution_count": 1,
     "metadata": {},
     "output_type": "execute_result"
    }
   ],
   "source": [
    "import org.apache.spark.sql.SparkSession\n",
    "import org.apache.spark.sql.functions._"
   ]
  },
  {
   "cell_type": "code",
   "execution_count": 2,
   "id": "9e0b9a9e",
   "metadata": {},
   "outputs": [
    {
     "data": {
      "text/plain": [
       "spark: org.apache.spark.sql.SparkSession = org.apache.spark.sql.SparkSession@691c2045\r\n"
      ]
     },
     "execution_count": 2,
     "metadata": {},
     "output_type": "execute_result"
    }
   ],
   "source": [
    "val spark = SparkSession\n",
    "            .builder\n",
    "            .appName(\"EjerciciosS3\")\n",
    "            .getOrCreate()"
   ]
  },
  {
   "cell_type": "code",
   "execution_count": 3,
   "id": "24d96ec1",
   "metadata": {},
   "outputs": [
    {
     "data": {
      "text/plain": [
       "mnm_file: String = C:/LearningSparkV2-master/databricks-datasets/learning-spark-v2/mnm_dataset.csv\r\n"
      ]
     },
     "execution_count": 3,
     "metadata": {},
     "output_type": "execute_result"
    }
   ],
   "source": [
    "val mnm_file = \"C:/LearningSparkV2-master/databricks-datasets/learning-spark-v2/mnm_dataset.csv\""
   ]
  },
  {
   "cell_type": "code",
   "execution_count": 4,
   "id": "b3ef267b",
   "metadata": {},
   "outputs": [
    {
     "data": {
      "text/plain": [
       "mnm: org.apache.spark.sql.DataFrame = [State: string, Color: string ... 1 more field]\r\n"
      ]
     },
     "execution_count": 4,
     "metadata": {},
     "output_type": "execute_result"
    }
   ],
   "source": [
    "val mnm = spark.read.format(\"csv\")\n",
    "        .option (\"header\", \"true\")\n",
    "        .option (\"inferSchema\", \"true\")\n",
    "        .load(mnm_file)"
   ]
  },
  {
   "cell_type": "code",
   "execution_count": 5,
   "id": "9075b9e0",
   "metadata": {},
   "outputs": [
    {
     "data": {
      "text/plain": [
       "res0: org.apache.spark.sql.types.StructType = StructType(StructField(State,StringType,true), StructField(Color,StringType,true), StructField(Count,IntegerType,true))\r\n"
      ]
     },
     "execution_count": 5,
     "metadata": {},
     "output_type": "execute_result"
    }
   ],
   "source": [
    "mnm.schema"
   ]
  },
  {
   "cell_type": "code",
   "execution_count": 6,
   "id": "eba236e7",
   "metadata": {},
   "outputs": [
    {
     "name": "stdout",
     "output_type": "stream",
     "text": [
      "root\n",
      " |-- State: string (nullable = true)\n",
      " |-- Color: string (nullable = true)\n",
      " |-- Count: integer (nullable = true)\n",
      "\n",
      "()"
     ]
    }
   ],
   "source": [
    "print(mnm.printSchema)"
   ]
  },
  {
   "cell_type": "markdown",
   "id": "b901e385",
   "metadata": {},
   "source": [
    "-----------------------------------------------------------------------------------------------------"
   ]
  },
  {
   "cell_type": "markdown",
   "id": "3bbaab31",
   "metadata": {},
   "source": [
    "**Cuando se define un schema al definir un campo por ejemplo StructField('Delay', \n",
    "FloatType(), True) ¿qué significa el último parámetro Boolean?**"
   ]
  },
  {
   "cell_type": "markdown",
   "id": "5249ab29",
   "metadata": {},
   "source": [
    "*Este ultimo parametro nos permite poner si la variable admitira parametros nulos o no*"
   ]
  }
 ],
 "metadata": {
  "kernelspec": {
   "display_name": "spylon-kernel",
   "language": "scala",
   "name": "spylon-kernel"
  },
  "language_info": {
   "codemirror_mode": "text/x-scala",
   "file_extension": ".scala",
   "help_links": [
    {
     "text": "MetaKernel Magics",
     "url": "https://metakernel.readthedocs.io/en/latest/source/README.html"
    }
   ],
   "mimetype": "text/x-scala",
   "name": "scala",
   "pygments_lexer": "scala",
   "version": "0.4.1"
  }
 },
 "nbformat": 4,
 "nbformat_minor": 5
}
